{
  "nbformat": 4,
  "nbformat_minor": 0,
  "metadata": {
    "colab": {
      "name": "Breast-cancer-custom-training-tf",
      "provenance": [],
      "authorship_tag": "ABX9TyPt+GIBcc3fODIVXzwUrHeW"
    },
    "kernelspec": {
      "name": "python3",
      "display_name": "Python 3"
    },
    "language_info": {
      "name": "python"
    }
  },
  "cells": [
    {
      "cell_type": "code",
      "metadata": {
        "id": "viyNX3g77oXc"
      },
      "source": [
        "import tensorflow as tf\n",
        "from tensorflow.keras.models import Model\n",
        "from tensorflow.keras.layers import Dense, Input\n",
        "\n",
        "import numpy as np\n",
        "import matplotlib.pyplot as plt\n",
        "import matplotlib.ticker as mticker\n",
        "import pandas as pd\n",
        "from sklearn.model_selection import train_test_split\n",
        "from sklearn.metrics import confusion_matrix\n",
        "import itertools\n",
        "from tqdm import tqdm\n",
        "import tensorflow_datasets as tfds\n",
        "\n",
        "tf.get_logger().setLevel('ERROR')"
      ],
      "execution_count": 81,
      "outputs": []
    },
    {
      "cell_type": "code",
      "metadata": {
        "id": "bfQWZYJb75TJ"
      },
      "source": [
        "data_file = '/content/data.csv'\n",
        "col_names = [\"id\", \"clump_thickness\", \"un_cell_size\", \"un_cell_shape\", \"marginal_adheshion\", \"single_eph_cell_size\", \"bare_nuclei\", \"bland_chromatin\", \"normal_nucleoli\", \"mitoses\", \"class\"]\n",
        "df = pd.read_csv(data_file, names=col_names, header=None)"
      ],
      "execution_count": 65,
      "outputs": []
    },
    {
      "cell_type": "code",
      "metadata": {
        "colab": {
          "base_uri": "https://localhost:8080/"
        },
        "id": "JCst7EcRCZGy",
        "outputId": "afaf3376-8cda-4de6-8e61-d389e6b7b243"
      },
      "source": [
        "df.pop(\"id\")"
      ],
      "execution_count": 66,
      "outputs": [
        {
          "output_type": "execute_result",
          "data": {
            "text/plain": [
              "0      1000025\n",
              "1      1002945\n",
              "2      1015425\n",
              "3      1016277\n",
              "4      1017023\n",
              "        ...   \n",
              "694     776715\n",
              "695     841769\n",
              "696     888820\n",
              "697     897471\n",
              "698     897471\n",
              "Name: id, Length: 699, dtype: int64"
            ]
          },
          "metadata": {},
          "execution_count": 66
        }
      ]
    },
    {
      "cell_type": "code",
      "metadata": {
        "id": "tCZ7U4pSCdPa"
      },
      "source": [
        "df = df[df[\"bare_nuclei\"] != '?' ]\n",
        "df.bare_nuclei = pd.to_numeric(df.bare_nuclei)"
      ],
      "execution_count": 67,
      "outputs": []
    },
    {
      "cell_type": "code",
      "metadata": {
        "colab": {
          "base_uri": "https://localhost:8080/",
          "height": 282
        },
        "id": "kiJ5kR_jCe1x",
        "outputId": "1b1c8058-2692-4759-a0b7-0171494fb026"
      },
      "source": [
        "df['class'].hist(bins=20) "
      ],
      "execution_count": 68,
      "outputs": [
        {
          "output_type": "execute_result",
          "data": {
            "text/plain": [
              "<matplotlib.axes._subplots.AxesSubplot at 0x7f484ac78950>"
            ]
          },
          "metadata": {},
          "execution_count": 68
        },
        {
          "output_type": "display_data",
          "data": {
            "image/png": "[encoded data removed]",
            "text/plain": [
              "<Figure size 432x288 with 1 Axes>"
            ]
          },
          "metadata": {
            "needs_background": "light"
          }
        }
      ]
    },
    {
      "cell_type": "code",
      "metadata": {
        "colab": {
          "base_uri": "https://localhost:8080/",
          "height": 419
        },
        "id": "vh3gQca7CgY1",
        "outputId": "cb8c0ec7-cdd9-406b-fc2a-bee2c100de7d"
      },
      "source": [
        "df['class'] = np.where(df['class'] == 2, 0, 1)\n",
        "df"
      ],
      "execution_count": 69,
      "outputs": [
        {
          "output_type": "execute_result",
          "data": {
            "text/html": [
              "<div>\n",
              "<style scoped>\n",
              "    .dataframe tbody tr th:only-of-type {\n",
              "        vertical-align: middle;\n",
              "    }\n",
              "\n",
              "    .dataframe tbody tr th {\n",
              "        vertical-align: top;\n",
              "    }\n",
              "\n",
              "    .dataframe thead th {\n",
              "        text-align: right;\n",
              "    }\n",
              "</style>\n",
              "<table border=\"1\" class=\"dataframe\">\n",
              "  <thead>\n",
              "    <tr style=\"text-align: right;\">\n",
              "      <th></th>\n",
              "      <th>clump_thickness</th>\n",
              "      <th>un_cell_size</th>\n",
              "      <th>un_cell_shape</th>\n",
              "      <th>marginal_adheshion</th>\n",
              "      <th>single_eph_cell_size</th>\n",
              "      <th>bare_nuclei</th>\n",
              "      <th>bland_chromatin</th>\n",
              "      <th>normal_nucleoli</th>\n",
              "      <th>mitoses</th>\n",
              "      <th>class</th>\n",
              "    </tr>\n",
              "  </thead>\n",
              "  <tbody>\n",
              "    <tr>\n",
              "      <th>0</th>\n",
              "      <td>5</td>\n",
              "      <td>1</td>\n",
              "      <td>1</td>\n",
              "      <td>1</td>\n",
              "      <td>2</td>\n",
              "      <td>1</td>\n",
              "      <td>3</td>\n",
              "      <td>1</td>\n",
              "      <td>1</td>\n",
              "      <td>0</td>\n",
              "    </tr>\n",
              "    <tr>\n",
              "      <th>1</th>\n",
              "      <td>5</td>\n",
              "      <td>4</td>\n",
              "      <td>4</td>\n",
              "      <td>5</td>\n",
              "      <td>7</td>\n",
              "      <td>10</td>\n",
              "      <td>3</td>\n",
              "      <td>2</td>\n",
              "      <td>1</td>\n",
              "      <td>0</td>\n",
              "    </tr>\n",
              "    <tr>\n",
              "      <th>2</th>\n",
              "      <td>3</td>\n",
              "      <td>1</td>\n",
              "      <td>1</td>\n",
              "      <td>1</td>\n",
              "      <td>2</td>\n",
              "      <td>2</td>\n",
              "      <td>3</td>\n",
              "      <td>1</td>\n",
              "      <td>1</td>\n",
              "      <td>0</td>\n",
              "    </tr>\n",
              "    <tr>\n",
              "      <th>3</th>\n",
              "      <td>6</td>\n",
              "      <td>8</td>\n",
              "      <td>8</td>\n",
              "      <td>1</td>\n",
              "      <td>3</td>\n",
              "      <td>4</td>\n",
              "      <td>3</td>\n",
              "      <td>7</td>\n",
              "      <td>1</td>\n",
              "      <td>0</td>\n",
              "    </tr>\n",
              "    <tr>\n",
              "      <th>4</th>\n",
              "      <td>4</td>\n",
              "      <td>1</td>\n",
              "      <td>1</td>\n",
              "      <td>3</td>\n",
              "      <td>2</td>\n",
              "      <td>1</td>\n",
              "      <td>3</td>\n",
              "      <td>1</td>\n",
              "      <td>1</td>\n",
              "      <td>0</td>\n",
              "    </tr>\n",
              "    <tr>\n",
              "      <th>...</th>\n",
              "      <td>...</td>\n",
              "      <td>...</td>\n",
              "      <td>...</td>\n",
              "      <td>...</td>\n",
              "      <td>...</td>\n",
              "      <td>...</td>\n",
              "      <td>...</td>\n",
              "      <td>...</td>\n",
              "      <td>...</td>\n",
              "      <td>...</td>\n",
              "    </tr>\n",
              "    <tr>\n",
              "      <th>694</th>\n",
              "      <td>3</td>\n",
              "      <td>1</td>\n",
              "      <td>1</td>\n",
              "      <td>1</td>\n",
              "      <td>3</td>\n",
              "      <td>2</td>\n",
              "      <td>1</td>\n",
              "      <td>1</td>\n",
              "      <td>1</td>\n",
              "      <td>0</td>\n",
              "    </tr>\n",
              "    <tr>\n",
              "      <th>695</th>\n",
              "      <td>2</td>\n",
              "      <td>1</td>\n",
              "      <td>1</td>\n",
              "      <td>1</td>\n",
              "      <td>2</td>\n",
              "      <td>1</td>\n",
              "      <td>1</td>\n",
              "      <td>1</td>\n",
              "      <td>1</td>\n",
              "      <td>0</td>\n",
              "    </tr>\n",
              "    <tr>\n",
              "      <th>696</th>\n",
              "      <td>5</td>\n",
              "      <td>10</td>\n",
              "      <td>10</td>\n",
              "      <td>3</td>\n",
              "      <td>7</td>\n",
              "      <td>3</td>\n",
              "      <td>8</td>\n",
              "      <td>10</td>\n",
              "      <td>2</td>\n",
              "      <td>1</td>\n",
              "    </tr>\n",
              "    <tr>\n",
              "      <th>697</th>\n",
              "      <td>4</td>\n",
              "      <td>8</td>\n",
              "      <td>6</td>\n",
              "      <td>4</td>\n",
              "      <td>3</td>\n",
              "      <td>4</td>\n",
              "      <td>10</td>\n",
              "      <td>6</td>\n",
              "      <td>1</td>\n",
              "      <td>1</td>\n",
              "    </tr>\n",
              "    <tr>\n",
              "      <th>698</th>\n",
              "      <td>4</td>\n",
              "      <td>8</td>\n",
              "      <td>8</td>\n",
              "      <td>5</td>\n",
              "      <td>4</td>\n",
              "      <td>5</td>\n",
              "      <td>10</td>\n",
              "      <td>4</td>\n",
              "      <td>1</td>\n",
              "      <td>1</td>\n",
              "    </tr>\n",
              "  </tbody>\n",
              "</table>\n",
              "<p>683 rows × 10 columns</p>\n",
              "</div>"
            ],
            "text/plain": [
              "     clump_thickness  un_cell_size  ...  mitoses  class\n",
              "0                  5             1  ...        1      0\n",
              "1                  5             4  ...        1      0\n",
              "2                  3             1  ...        1      0\n",
              "3                  6             8  ...        1      0\n",
              "4                  4             1  ...        1      0\n",
              "..               ...           ...  ...      ...    ...\n",
              "694                3             1  ...        1      0\n",
              "695                2             1  ...        1      0\n",
              "696                5            10  ...        2      1\n",
              "697                4             8  ...        1      1\n",
              "698                4             8  ...        1      1\n",
              "\n",
              "[683 rows x 10 columns]"
            ]
          },
          "metadata": {},
          "execution_count": 69
        }
      ]
    },
    {
      "cell_type": "code",
      "metadata": {
        "id": "grdszd7mCipZ"
      },
      "source": [
        "train, test = train_test_split(df, test_size = 0.2)"
      ],
      "execution_count": 70,
      "outputs": []
    },
    {
      "cell_type": "code",
      "metadata": {
        "colab": {
          "base_uri": "https://localhost:8080/",
          "height": 328
        },
        "id": "5_UQm3hdCk7x",
        "outputId": "7757bb27-ae46-42e1-e868-4c756d8888c9"
      },
      "source": [
        "train_stats = train.describe()\n",
        "train_stats.pop('class')\n",
        "train_stats = train_stats.transpose()\n",
        "train_stats"
      ],
      "execution_count": 71,
      "outputs": [
        {
          "output_type": "execute_result",
          "data": {
            "text/html": [
              "<div>\n",
              "<style scoped>\n",
              "    .dataframe tbody tr th:only-of-type {\n",
              "        vertical-align: middle;\n",
              "    }\n",
              "\n",
              "    .dataframe tbody tr th {\n",
              "        vertical-align: top;\n",
              "    }\n",
              "\n",
              "    .dataframe thead th {\n",
              "        text-align: right;\n",
              "    }\n",
              "</style>\n",
              "<table border=\"1\" class=\"dataframe\">\n",
              "  <thead>\n",
              "    <tr style=\"text-align: right;\">\n",
              "      <th></th>\n",
              "      <th>count</th>\n",
              "      <th>mean</th>\n",
              "      <th>std</th>\n",
              "      <th>min</th>\n",
              "      <th>25%</th>\n",
              "      <th>50%</th>\n",
              "      <th>75%</th>\n",
              "      <th>max</th>\n",
              "    </tr>\n",
              "  </thead>\n",
              "  <tbody>\n",
              "    <tr>\n",
              "      <th>clump_thickness</th>\n",
              "      <td>546.0</td>\n",
              "      <td>4.510989</td>\n",
              "      <td>2.799880</td>\n",
              "      <td>1.0</td>\n",
              "      <td>2.0</td>\n",
              "      <td>4.0</td>\n",
              "      <td>6.0</td>\n",
              "      <td>10.0</td>\n",
              "    </tr>\n",
              "    <tr>\n",
              "      <th>un_cell_size</th>\n",
              "      <td>546.0</td>\n",
              "      <td>3.177656</td>\n",
              "      <td>3.092390</td>\n",
              "      <td>1.0</td>\n",
              "      <td>1.0</td>\n",
              "      <td>1.0</td>\n",
              "      <td>5.0</td>\n",
              "      <td>10.0</td>\n",
              "    </tr>\n",
              "    <tr>\n",
              "      <th>un_cell_shape</th>\n",
              "      <td>546.0</td>\n",
              "      <td>3.238095</td>\n",
              "      <td>3.005514</td>\n",
              "      <td>1.0</td>\n",
              "      <td>1.0</td>\n",
              "      <td>1.0</td>\n",
              "      <td>5.0</td>\n",
              "      <td>10.0</td>\n",
              "    </tr>\n",
              "    <tr>\n",
              "      <th>marginal_adheshion</th>\n",
              "      <td>546.0</td>\n",
              "      <td>2.822344</td>\n",
              "      <td>2.845814</td>\n",
              "      <td>1.0</td>\n",
              "      <td>1.0</td>\n",
              "      <td>1.0</td>\n",
              "      <td>4.0</td>\n",
              "      <td>10.0</td>\n",
              "    </tr>\n",
              "    <tr>\n",
              "      <th>single_eph_cell_size</th>\n",
              "      <td>546.0</td>\n",
              "      <td>3.239927</td>\n",
              "      <td>2.185679</td>\n",
              "      <td>1.0</td>\n",
              "      <td>2.0</td>\n",
              "      <td>2.0</td>\n",
              "      <td>4.0</td>\n",
              "      <td>10.0</td>\n",
              "    </tr>\n",
              "    <tr>\n",
              "      <th>bare_nuclei</th>\n",
              "      <td>546.0</td>\n",
              "      <td>3.650183</td>\n",
              "      <td>3.694823</td>\n",
              "      <td>1.0</td>\n",
              "      <td>1.0</td>\n",
              "      <td>1.0</td>\n",
              "      <td>7.0</td>\n",
              "      <td>10.0</td>\n",
              "    </tr>\n",
              "    <tr>\n",
              "      <th>bland_chromatin</th>\n",
              "      <td>546.0</td>\n",
              "      <td>3.461538</td>\n",
              "      <td>2.466544</td>\n",
              "      <td>1.0</td>\n",
              "      <td>2.0</td>\n",
              "      <td>3.0</td>\n",
              "      <td>5.0</td>\n",
              "      <td>10.0</td>\n",
              "    </tr>\n",
              "    <tr>\n",
              "      <th>normal_nucleoli</th>\n",
              "      <td>546.0</td>\n",
              "      <td>2.860806</td>\n",
              "      <td>3.045051</td>\n",
              "      <td>1.0</td>\n",
              "      <td>1.0</td>\n",
              "      <td>1.0</td>\n",
              "      <td>3.0</td>\n",
              "      <td>10.0</td>\n",
              "    </tr>\n",
              "    <tr>\n",
              "      <th>mitoses</th>\n",
              "      <td>546.0</td>\n",
              "      <td>1.622711</td>\n",
              "      <td>1.747490</td>\n",
              "      <td>1.0</td>\n",
              "      <td>1.0</td>\n",
              "      <td>1.0</td>\n",
              "      <td>1.0</td>\n",
              "      <td>10.0</td>\n",
              "    </tr>\n",
              "  </tbody>\n",
              "</table>\n",
              "</div>"
            ],
            "text/plain": [
              "                      count      mean       std  min  25%  50%  75%   max\n",
              "clump_thickness       546.0  4.510989  2.799880  1.0  2.0  4.0  6.0  10.0\n",
              "un_cell_size          546.0  3.177656  3.092390  1.0  1.0  1.0  5.0  10.0\n",
              "un_cell_shape         546.0  3.238095  3.005514  1.0  1.0  1.0  5.0  10.0\n",
              "marginal_adheshion    546.0  2.822344  2.845814  1.0  1.0  1.0  4.0  10.0\n",
              "single_eph_cell_size  546.0  3.239927  2.185679  1.0  2.0  2.0  4.0  10.0\n",
              "bare_nuclei           546.0  3.650183  3.694823  1.0  1.0  1.0  7.0  10.0\n",
              "bland_chromatin       546.0  3.461538  2.466544  1.0  2.0  3.0  5.0  10.0\n",
              "normal_nucleoli       546.0  2.860806  3.045051  1.0  1.0  1.0  3.0  10.0\n",
              "mitoses               546.0  1.622711  1.747490  1.0  1.0  1.0  1.0  10.0"
            ]
          },
          "metadata": {},
          "execution_count": 71
        }
      ]
    },
    {
      "cell_type": "code",
      "metadata": {
        "id": "y6jktccGCnUl"
      },
      "source": [
        "train_Y = train.pop(\"class\")\n",
        "test_Y = test.pop(\"class\")"
      ],
      "execution_count": 72,
      "outputs": []
    },
    {
      "cell_type": "code",
      "metadata": {
        "id": "Z-2HXDKoCo75"
      },
      "source": [
        "def norm(x):\n",
        "    return (x - train_stats['mean']) / train_stats['std']"
      ],
      "execution_count": 73,
      "outputs": []
    },
    {
      "cell_type": "code",
      "metadata": {
        "id": "UCxudOT-Cr75"
      },
      "source": [
        "norm_train_X = norm(train)\n",
        "norm_test_X = norm(test)"
      ],
      "execution_count": 74,
      "outputs": []
    },
    {
      "cell_type": "code",
      "metadata": {
        "id": "YkGsyLwgCtQ4"
      },
      "source": [
        "train_dataset = tf.data.Dataset.from_tensor_slices((norm_train_X.values, train_Y.values))\n",
        "test_dataset = tf.data.Dataset.from_tensor_slices((norm_test_X.values, test_Y.values))"
      ],
      "execution_count": 75,
      "outputs": []
    },
    {
      "cell_type": "code",
      "metadata": {
        "id": "npc5NwYrCupy"
      },
      "source": [
        "batch_size = 32\n",
        "train_dataset = train_dataset.shuffle(buffer_size=len(train)).batch(batch_size)\n",
        "\n",
        "test_dataset =  test_dataset.batch(batch_size=batch_size)"
      ],
      "execution_count": 76,
      "outputs": []
    },
    {
      "cell_type": "code",
      "metadata": {
        "id": "AR7qU9P3CwDS"
      },
      "source": [
        "a = enumerate(train_dataset)\n",
        "\n",
        "# print(len(list(a)))"
      ],
      "execution_count": 77,
      "outputs": []
    },
    {
      "cell_type": "code",
      "metadata": {
        "id": "Ka_qitQBCyn0"
      },
      "source": [
        "def base_model():\n",
        "    inputs = tf.keras.layers.Input(shape=(len(train.columns)))\n",
        "\n",
        "    x = tf.keras.layers.Dense(128, activation='relu')(inputs)\n",
        "    x = tf.keras.layers.Dense(64, activation='relu')(x)\n",
        "    outputs = tf.keras.layers.Dense(1, activation='sigmoid')(x)\n",
        "    model = tf.keras.Model(inputs=inputs, outputs=outputs)\n",
        "    return model\n",
        "\n",
        "model = base_model()"
      ],
      "execution_count": 78,
      "outputs": []
    },
    {
      "cell_type": "code",
      "metadata": {
        "id": "JgI_R0BOC0Cl"
      },
      "source": [
        "optimizer = tf.keras.optimizers.RMSprop(learning_rate=0.001)\n",
        "loss_object = tf.keras.losses.BinaryCrossentropy()"
      ],
      "execution_count": 79,
      "outputs": []
    },
    {
      "cell_type": "code",
      "metadata": {
        "colab": {
          "base_uri": "https://localhost:8080/"
        },
        "id": "stvBMVEMDCEU",
        "outputId": "cdb620fb-624d-414e-e0b5-32ce9db56007"
      },
      "source": [
        "outputs = model(norm_test_X.values)\n",
        "loss_value = loss_object(np.expand_dims(test_Y.values,-1), outputs)\n",
        "print(\"Loss before training %.4f\" % loss_value.numpy())"
      ],
      "execution_count": 84,
      "outputs": [
        {
          "output_type": "stream",
          "name": "stdout",
          "text": [
            "Loss before training 0.7048\n"
          ]
        }
      ]
    },
    {
      "cell_type": "code",
      "metadata": {
        "id": "NcsU45aYDD7y"
      },
      "source": [
        "def plot_confusion_matrix(y_true, y_pred, title='', labels=[0,1]):\n",
        "    cm = confusion_matrix(y_true, y_pred)\n",
        "    fig = plt.figure()\n",
        "    ax = fig.add_subplot(111)\n",
        "    cax = ax.matshow(cm)\n",
        "    plt.title(title)\n",
        "    fig.colorbar(cax)\n",
        "    ax.set_xticklabels([''] + labels)\n",
        "    ax.set_yticklabels([''] + labels)\n",
        "    plt.xlabel('Predicted')\n",
        "    plt.ylabel('True')\n",
        "    fmt = 'd'\n",
        "    thresh = cm.max() / 2.\n",
        "    for i, j in itertools.product(range(cm.shape[0]), range(cm.shape[1])):\n",
        "          plt.text(j, i, format(cm[i, j], fmt),\n",
        "                  horizontalalignment=\"center\",\n",
        "                  color=\"black\" if cm[i, j] > thresh else \"white\")\n",
        "    plt.show()"
      ],
      "execution_count": 85,
      "outputs": []
    },
    {
      "cell_type": "code",
      "metadata": {
        "colab": {
          "base_uri": "https://localhost:8080/",
          "height": 289
        },
        "id": "sHIeDVqMDbia",
        "outputId": "98e40af2-4866-475d-ddfd-44860a588126"
      },
      "source": [
        "plot_confusion_matrix(test_Y.values, tf.round(outputs), title='Confusion Matrix for Untrained Model')"
      ],
      "execution_count": 86,
      "outputs": [
        {
          "output_type": "display_data",
          "data": {
            "image/png": "[encoded data removed]",
            "text/plain": [
              "<Figure size 432x288 with 2 Axes>"
            ]
          },
          "metadata": {
            "needs_background": "light"
          }
        }
      ]
    },
    {
      "cell_type": "code",
      "metadata": {
        "id": "qqk5n4axDdZZ"
      },
      "source": [
        "class F1Score(tf.keras.metrics.Metric):\n",
        "\n",
        "    def __init__(self, name='f1_score', **kwargs):\n",
        "        '''initializes attributes of the class'''\n",
        "        \n",
        "        # call the parent class init\n",
        "        super(F1Score, self).__init__(name=name, **kwargs)\n",
        "\n",
        "        # Initialize Required variables\n",
        "        # true positives\n",
        "        self.tp = tf.Variable(0, dtype = 'int32')\n",
        "        # false positives\n",
        "        self.fp = tf.Variable(0, dtype = 'int32')\n",
        "        # true negatives\n",
        "        self.tn = tf.Variable(0, dtype = 'int32')\n",
        "        # false negatives\n",
        "        self.fn = tf.Variable(0, dtype = 'int32')\n",
        "\n",
        "    def update_state(self, y_true, y_pred, sample_weight=None):\n",
        "        '''\n",
        "        Accumulates statistics for the metric\n",
        "        \n",
        "        Args:\n",
        "            y_true: target values from the test data\n",
        "            y_pred: predicted values by the model\n",
        "        '''\n",
        "\n",
        "        # Calulcate confusion matrix.\n",
        "        conf_matrix = tf.math.confusion_matrix(y_true, y_pred, num_classes=2)\n",
        "        \n",
        "        # Update values of true positives, true negatives, false positives and false negatives from confusion matrix.\n",
        "        self.tn.assign_add(conf_matrix[0][0])\n",
        "        self.tp.assign_add(conf_matrix[1][1])\n",
        "        self.fp.assign_add(conf_matrix[0][1])\n",
        "        self.fn.assign_add(conf_matrix[1][0])\n",
        "\n",
        "    def result(self):\n",
        "        '''Computes and returns the metric value tensor.'''\n",
        "\n",
        "        # Calculate precision\n",
        "        if (self.tp + self.fp == 0):\n",
        "            precision = 1.0\n",
        "        else:\n",
        "            precision = self.tp / (self.tp + self.fp)\n",
        "      \n",
        "        # Calculate recall\n",
        "        if (self.tp + self.fn == 0):\n",
        "            recall = 1.0\n",
        "        else:\n",
        "            recall = self.tp / (self.tp + self.fn)\n",
        "\n",
        "        # Return F1 Score\n",
        "        f1_score = 2 * (precision*recall)/(precision+recall)\n",
        "        \n",
        "        return f1_score\n",
        "\n",
        "    def reset_states(self):\n",
        "        '''Resets all of the metric state variables.'''\n",
        "        \n",
        "        # The state of the metric will be reset at the start of each epoch.\n",
        "        self.tp.assign(0)\n",
        "        self.tn.assign(0) \n",
        "        self.fp.assign(0)\n",
        "        self.fn.assign(0)\n",
        "\n"
      ],
      "execution_count": 87,
      "outputs": []
    },
    {
      "cell_type": "code",
      "metadata": {
        "id": "ca_ddGcRDjXD"
      },
      "source": [
        "train_f1score_metric = F1Score()\n",
        "val_f1score_metric = F1Score()\n",
        "\n",
        "train_acc_metric = tf.keras.metrics.BinaryAccuracy()\n",
        "val_acc_metric = tf.keras.metrics.BinaryAccuracy()"
      ],
      "execution_count": 88,
      "outputs": []
    },
    {
      "cell_type": "code",
      "metadata": {
        "id": "-G2yGRV0Dmd0"
      },
      "source": [
        "def apply_gradient(optimizer, loss_object, model, x, y):\n",
        "    '''\n",
        "    applies the gradients to the trainable model weights\n",
        "    \n",
        "    Args:\n",
        "        optimizer: optimizer to update model weights\n",
        "        loss_object: type of loss to measure during training\n",
        "        model: the model we are training\n",
        "        x: input data to the model\n",
        "        y: target values for each input\n",
        "    '''\n",
        "    \n",
        "    with tf.GradientTape() as tape:\n",
        "        logits = model(x)\n",
        "        loss_value = loss_object(y,logits)\n",
        "  \n",
        "    gradients = tape.gradient(loss_value, model.trainable_weights)\n",
        "    optimizer.apply_gradients(zip(gradients, model.trainable_weights))\n",
        "  \n",
        "    return logits, loss_value"
      ],
      "execution_count": 89,
      "outputs": []
    },
    {
      "cell_type": "code",
      "metadata": {
        "id": "igSAMy1uDqqo"
      },
      "source": [
        "def train_data_for_one_epoch(train_dataset, optimizer, loss_object, model, \n",
        "                             train_acc_metric, train_f1score_metric, verbose=True):\n",
        "    '''\n",
        "    Computes the loss then updates the weights and metrics for one epoch.\n",
        "    \n",
        "    Args:\n",
        "        train_dataset: the training dataset\n",
        "        optimizer: optimizer to update model weights\n",
        "        loss_object: type of loss to measure during training\n",
        "        model: the model we are training\n",
        "        train_acc_metric: calculates how often predictions match labels\n",
        "        train_f1score_metric: custom metric we defined earlier\n",
        "    '''\n",
        "    losses = []\n",
        "\n",
        "    #Iterate through all batches of training data\n",
        "    for step, (x_batch_train, y_batch_train) in enumerate(train_dataset):\n",
        "\n",
        "        #Calculate loss and update trainable variables using optimizer\n",
        "        logits, loss_value = apply_gradient(optimizer, loss_object, model, x_batch_train, y_batch_train)\n",
        "        losses.append(loss_value)\n",
        "\n",
        "        #Round off logits to nearest integer and cast to integer for calulating metrics\n",
        "        logits = tf.round(logits)\n",
        "        logits = tf.cast(logits, 'int64')\n",
        "\n",
        "        #Update the training metrics\n",
        "        train_acc_metric.update_state(y_batch_train, logits)\n",
        "        train_f1score_metric.update_state(y_batch_train, logits)\n",
        "\n",
        "        #Update progress\n",
        "        if verbose:\n",
        "            print(\"Training loss for step %s: %.4f\" % (int(step), float(loss_value)))\n",
        "    \n",
        "    return losses"
      ],
      "execution_count": 90,
      "outputs": []
    },
    {
      "cell_type": "code",
      "metadata": {
        "id": "ebRJrulPDxkq"
      },
      "source": [
        "def perform_validation():\n",
        "    losses = []\n",
        "\n",
        "    #Iterate through all batches of validation data.\n",
        "    for x_val, y_val in test_dataset:\n",
        "\n",
        "        #Calculate validation loss for current batch.\n",
        "        val_logits = model(x_val) \n",
        "        val_loss = loss_object(y_true=y_val, y_pred=val_logits)\n",
        "        losses.append(val_loss)\n",
        "\n",
        "        #Round off and cast outputs to either  or 1\n",
        "        val_logits = tf.cast(tf.round(model(x_val)), 'int64')\n",
        "\n",
        "        #Update validation metrics\n",
        "        val_acc_metric.update_state(y_val, val_logits)\n",
        "        val_f1score_metric.update_state(y_val, val_logits)\n",
        "        \n",
        "    return losses"
      ],
      "execution_count": 91,
      "outputs": []
    },
    {
      "cell_type": "code",
      "metadata": {
        "colab": {
          "base_uri": "https://localhost:8080/"
        },
        "id": "3DMw_cYhD0SU",
        "outputId": "8b355f62-fc57-4ac3-8a80-796c2ec027a9"
      },
      "source": [
        "epochs = 5\n",
        "epochs_val_losses, epochs_train_losses = [], []\n",
        "\n",
        "for epoch in range(epochs):\n",
        "    print('Start of epoch %d' % (epoch,))\n",
        "    #Perform Training over all batches of train data\n",
        "    losses_train = train_data_for_one_epoch(train_dataset, optimizer, loss_object, model, train_acc_metric, train_f1score_metric)\n",
        "\n",
        "    # Get results from training metrics\n",
        "    train_acc = train_acc_metric.result()\n",
        "    train_f1score = train_f1score_metric.result()\n",
        "\n",
        "    #Perform validation on all batches of test data\n",
        "    losses_val = perform_validation()\n",
        "\n",
        "    # Get results from validation metrics\n",
        "    val_acc = val_acc_metric.result()\n",
        "    val_f1score = val_f1score_metric.result()\n",
        "\n",
        "    #Calculate training and validation losses for current epoch\n",
        "    losses_train_mean = np.mean(losses_train)\n",
        "    losses_val_mean = np.mean(losses_val)\n",
        "    epochs_val_losses.append(losses_val_mean)\n",
        "    epochs_train_losses.append(losses_train_mean)\n",
        "\n",
        "    print('\\n Epcoh %s: Train loss: %.4f  Validation Loss: %.4f, Train Accuracy: %.4f, Validation Accuracy %.4f, Train F1 Score: %.4f, Validation F1 Score: %.4f' % (epoch, float(losses_train_mean), float(losses_val_mean), float(train_acc), float(val_acc), train_f1score, val_f1score))\n",
        "\n",
        "    #Reset states of all metrics\n",
        "    train_acc_metric.reset_states()\n",
        "    val_acc_metric.reset_states()\n",
        "    val_f1score_metric.reset_states()\n",
        "    train_f1score_metric.reset_states()"
      ],
      "execution_count": 92,
      "outputs": [
        {
          "output_type": "stream",
          "name": "stdout",
          "text": [
            "Start of epoch 0\n",
            "Training loss for step 0: 0.7146\n",
            "Training loss for step 1: 0.5917\n",
            "Training loss for step 2: 0.5031\n",
            "Training loss for step 3: 0.4443\n",
            "Training loss for step 4: 0.3674\n",
            "Training loss for step 5: 0.3609\n",
            "Training loss for step 6: 0.2999\n",
            "Training loss for step 7: 0.3575\n",
            "Training loss for step 8: 0.4431\n",
            "Training loss for step 9: 0.2793\n",
            "Training loss for step 10: 0.2331\n",
            "Training loss for step 11: 0.2430\n",
            "Training loss for step 12: 0.2170\n",
            "Training loss for step 13: 0.1969\n",
            "Training loss for step 14: 0.1814\n",
            "Training loss for step 15: 0.1563\n",
            "Training loss for step 16: 0.1741\n",
            "Training loss for step 17: 0.1260\n",
            "\n",
            " Epcoh 0: Train loss: 0.3272  Validation Loss: 0.2036, Train Accuracy: 0.9340, Validation Accuracy 0.9340, Train F1 Score: 0.9082, Validation F1 Score: 0.9130\n",
            "Start of epoch 1\n",
            "Training loss for step 0: 0.1383\n",
            "Training loss for step 1: 0.1432\n",
            "Training loss for step 2: 0.1531\n",
            "Training loss for step 3: 0.0818\n",
            "Training loss for step 4: 0.1195\n",
            "Training loss for step 5: 0.1353\n",
            "Training loss for step 6: 0.0995\n",
            "Training loss for step 7: 0.2784\n",
            "Training loss for step 8: 0.0797\n",
            "Training loss for step 9: 0.1330\n",
            "Training loss for step 10: 0.1364\n",
            "Training loss for step 11: 0.1528\n",
            "Training loss for step 12: 0.0847\n",
            "Training loss for step 13: 0.0453\n",
            "Training loss for step 14: 0.1611\n",
            "Training loss for step 15: 0.0763\n",
            "Training loss for step 16: 0.0978\n",
            "Training loss for step 17: 0.0609\n",
            "\n",
            " Epcoh 1: Train loss: 0.1209  Validation Loss: 0.1451, Train Accuracy: 0.9792, Validation Accuracy 0.9278, Train F1 Score: 0.9695, Validation F1 Score: 0.8989\n",
            "Start of epoch 2\n",
            "Training loss for step 0: 0.1024\n",
            "Training loss for step 1: 0.0981\n",
            "Training loss for step 2: 0.0547\n",
            "Training loss for step 3: 0.0573\n",
            "Training loss for step 4: 0.0376\n",
            "Training loss for step 5: 0.1350\n",
            "Training loss for step 6: 0.1446\n",
            "Training loss for step 7: 0.0615\n",
            "Training loss for step 8: 0.0802\n",
            "Training loss for step 9: 0.0433\n",
            "Training loss for step 10: 0.0342\n",
            "Training loss for step 11: 0.1454\n",
            "Training loss for step 12: 0.0960\n",
            "Training loss for step 13: 0.0225\n",
            "Training loss for step 14: 0.1131\n",
            "Training loss for step 15: 0.0706\n",
            "Training loss for step 16: 0.0483\n",
            "Training loss for step 17: 0.0280\n",
            "\n",
            " Epcoh 2: Train loss: 0.0763  Validation Loss: 0.1347, Train Accuracy: 0.9809, Validation Accuracy 0.9340, Train F1 Score: 0.9720, Validation F1 Score: 0.9111\n",
            "Start of epoch 3\n",
            "Training loss for step 0: 0.0821\n",
            "Training loss for step 1: 0.0555\n",
            "Training loss for step 2: 0.0291\n",
            "Training loss for step 3: 0.0203\n",
            "Training loss for step 4: 0.0961\n",
            "Training loss for step 5: 0.0646\n",
            "Training loss for step 6: 0.0279\n",
            "Training loss for step 7: 0.0348\n",
            "Training loss for step 8: 0.0207\n",
            "Training loss for step 9: 0.1844\n",
            "Training loss for step 10: 0.0275\n",
            "Training loss for step 11: 0.0302\n",
            "Training loss for step 12: 0.0213\n",
            "Training loss for step 13: 0.0308\n",
            "Training loss for step 14: 0.0093\n",
            "Training loss for step 15: 0.1411\n",
            "Training loss for step 16: 0.1416\n",
            "Training loss for step 17: 1.5030\n",
            "\n",
            " Epcoh 3: Train loss: 0.1400  Validation Loss: 0.1322, Train Accuracy: 0.9549, Validation Accuracy 0.9278, Train F1 Score: 0.9720, Validation F1 Score: 0.8989\n",
            "Start of epoch 4\n",
            "Training loss for step 0: 0.0293\n",
            "Training loss for step 1: 0.0175\n",
            "Training loss for step 2: 0.1336\n",
            "Training loss for step 3: 0.0243\n",
            "Training loss for step 4: 0.0211\n",
            "Training loss for step 5: 0.0613\n",
            "Training loss for step 6: 0.1362\n",
            "Training loss for step 7: 0.0139\n",
            "Training loss for step 8: 0.0235\n",
            "Training loss for step 9: 0.0667\n",
            "Training loss for step 10: 0.0609\n",
            "Training loss for step 11: 0.0295\n",
            "Training loss for step 12: 0.0163\n",
            "Training loss for step 13: 0.1069\n",
            "Training loss for step 14: 0.0359\n",
            "Training loss for step 15: 0.0770\n",
            "Training loss for step 16: 0.1228\n",
            "Training loss for step 17: 0.0041\n",
            "\n",
            " Epcoh 4: Train loss: 0.0545  Validation Loss: 0.1346, Train Accuracy: 0.9826, Validation Accuracy 0.9215, Train F1 Score: 0.9746, Validation F1 Score: 0.8864\n"
          ]
        }
      ]
    },
    {
      "cell_type": "code",
      "metadata": {
        "colab": {
          "base_uri": "https://localhost:8080/",
          "height": 281
        },
        "id": "u3Mqms0OD721",
        "outputId": "42883d91-b8ab-4e7a-f53a-813110bfa19f"
      },
      "source": [
        "def plot_metrics(train_metric, val_metric, metric_name, title, ylim=5):\n",
        "    plt.title(title)\n",
        "    plt.ylim(0,ylim)\n",
        "    plt.gca().xaxis.set_major_locator(mticker.MultipleLocator(1))\n",
        "    plt.plot(train_metric,color='blue',label=metric_name)\n",
        "    plt.plot(val_metric,color='green',label='val_' + metric_name)\n",
        "\n",
        "plot_metrics(epochs_train_losses, epochs_val_losses, \"Loss\", \"Loss\", ylim=1.0)"
      ],
      "execution_count": 93,
      "outputs": [
        {
          "output_type": "display_data",
          "data": {
            "image/png": "[encoded data removed]",
            "text/plain": [
              "<Figure size 432x288 with 1 Axes>"
            ]
          },
          "metadata": {
            "needs_background": "light"
          }
        }
      ]
    },
    {
      "cell_type": "code",
      "metadata": {
        "colab": {
          "base_uri": "https://localhost:8080/",
          "height": 289
        },
        "id": "9u4kvvn1EFWW",
        "outputId": "439660af-f5d6-4052-9ab7-4e36314d7b39"
      },
      "source": [
        "test_outputs = model(norm_test_X.values)\n",
        "plot_confusion_matrix(test_Y.values, tf.round(test_outputs), title='Confusion Matrix for Untrained Model')"
      ],
      "execution_count": 94,
      "outputs": [
        {
          "output_type": "display_data",
          "data": {
            "image/png": "[encoded data removed]",
            "text/plain": [
              "<Figure size 432x288 with 2 Axes>"
            ]
          },
          "metadata": {
            "needs_background": "light"
          }
        }
      ]
    },
    {
      "cell_type": "code",
      "metadata": {
        "id": "UcIKQC7mEG-w"
      },
      "source": [
        ""
      ],
      "execution_count": null,
      "outputs": []
    }
  ]
}